{
 "cells": [
  {
   "cell_type": "code",
   "execution_count": 187,
   "metadata": {},
   "outputs": [],
   "source": [
    "what_were_covering = {\n",
    "    1: \"data (preparation and load)\",\n",
    "    2: \"build model\",\n",
    "    3: \"fitting the model to data(training)\",\n",
    "    4: \"making predictions\",\n",
    "    5: \"saving and loading a model\",\n",
    "    6: \"putting it all together\"\n",
    "    }"
   ]
  },
  {
   "cell_type": "code",
   "execution_count": 188,
   "metadata": {},
   "outputs": [],
   "source": [
    "import torch\n",
    "from torch import nn #nn contains all of PyTorch's building blocks for neural networks\n",
    "import matplotlib.pyplot as plt\n",
    "import numpy as np"
   ]
  },
  {
   "cell_type": "markdown",
   "metadata": {},
   "source": [
    "## Data Preparation\n",
    "\n",
    "Deep Learning is about two parts:\n",
    "1. Get Data into a numerical representation\n",
    "2. Build a model to learn patterns in that numerical representations"
   ]
  },
  {
   "cell_type": "code",
   "execution_count": 189,
   "metadata": {},
   "outputs": [
    {
     "data": {
      "text/plain": [
       "(tensor([[0.0000],\n",
       "         [0.0200],\n",
       "         [0.0400],\n",
       "         [0.0600],\n",
       "         [0.0800],\n",
       "         [0.1000],\n",
       "         [0.1200],\n",
       "         [0.1400],\n",
       "         [0.1600],\n",
       "         [0.1800]]),\n",
       " tensor([[0.3000],\n",
       "         [0.3140],\n",
       "         [0.3280],\n",
       "         [0.3420],\n",
       "         [0.3560],\n",
       "         [0.3700],\n",
       "         [0.3840],\n",
       "         [0.3980],\n",
       "         [0.4120],\n",
       "         [0.4260]]),\n",
       " 50,\n",
       " 50)"
      ]
     },
     "execution_count": 189,
     "metadata": {},
     "output_type": "execute_result"
    }
   ],
   "source": [
    "weight = 0.7\n",
    "bias = 0.3 \n",
    "\n",
    "# CREATE \n",
    "start = 0\n",
    "end = 1\n",
    "step = 0.02\n",
    "\n",
    "X = torch.arange(start,end,step).unsqueeze(dim=1)\n",
    "y = weight * X + bias\n",
    "\n",
    "X[:10],y[:10],len(X),len(y)"
   ]
  },
  {
   "cell_type": "markdown",
   "metadata": {},
   "source": [
    "### Splitting data into training and test sets(One of the most important concepts)"
   ]
  },
  {
   "cell_type": "code",
   "execution_count": 190,
   "metadata": {},
   "outputs": [
    {
     "data": {
      "text/plain": [
       "(40, 10)"
      ]
     },
     "execution_count": 190,
     "metadata": {},
     "output_type": "execute_result"
    }
   ],
   "source": [
    "train_split = int(0.8 * len(X))\n",
    "X_train, y_train = X[:train_split],y[:train_split]\n",
    "X_test, y_test = X[train_split:],y[train_split:]\n",
    "\n",
    "len(X_train), len(y_test)"
   ]
  },
  {
   "cell_type": "markdown",
   "metadata": {},
   "source": [
    "How to better visualize the data"
   ]
  },
  {
   "cell_type": "code",
   "execution_count": 191,
   "metadata": {},
   "outputs": [],
   "source": [
    "def plot_predictions(train_data = X_train,\n",
    "                     train_labels = y_train,\n",
    "                     test_data=X_test,\n",
    "                     test_labels = y_test,\n",
    "                     predictions = None):\n",
    "    \"\"\"\n",
    "    Plots training data, test data and compares predictions\n",
    "    \"\"\"\n",
    "    \n",
    "    plt.figure(figsize=(10,7))\n",
    "    \n",
    "    # Plot training data in blue\n",
    "    plt.scatter(train_data,train_labels,c=\"b\",s=4,label=\"Training data\")\n",
    "    \n",
    "    # Plot testing data in green\n",
    "    plt.scatter(test_data,test_labels,c=\"g\",s=4,label=\"Test Data\")\n",
    "    \n",
    "    # Plotting predictions\n",
    "    if predictions is not None:\n",
    "        plt.scatter(test_data,predictions,c='r',s=4,label=\"Predictions\")\n",
    "    \n",
    "    plt.legend(prop={\"size\":14})"
   ]
  },
  {
   "cell_type": "code",
   "execution_count": 192,
   "metadata": {},
   "outputs": [
    {
     "data": {
      "image/png": "[encoded data removed]",
      "text/plain": [
       "<Figure size 1000x700 with 1 Axes>"
      ]
     },
     "metadata": {},
     "output_type": "display_data"
    }
   ],
   "source": [
    "plot_predictions()"
   ]
  },
  {
   "cell_type": "markdown",
   "metadata": {},
   "source": [
    "## 2. Build Model\n",
    "First Pytorch model!"
   ]
  },
  {
   "cell_type": "code",
   "execution_count": 193,
   "metadata": {},
   "outputs": [],
   "source": [
    "class LinearRegressionModel(nn.Module):\n",
    "    def __init__(self, *args, **kwargs):\n",
    "        super().__init__(*args, **kwargs)\n",
    "        self.weights = nn.Parameter(torch.randn(1,\n",
    "                                                requires_grad=True,\n",
    "                                                dtype=torch.float))\n",
    "        self.bias = nn.Parameter(torch.randn(1,\n",
    "                                             requires_grad=True,\n",
    "                                             dtype=float))\n",
    "        \n",
    "        # Forward method to define the computation in the model\n",
    "    def forward(self,x: torch.Tensor) -> torch.Tensor:\n",
    "        return self.weights * x + self.bias #Linear Regression formula\n",
    "        \n",
    "        \n",
    "        "
   ]
  },
  {
   "cell_type": "code",
   "execution_count": 194,
   "metadata": {},
   "outputs": [
    {
     "data": {
      "text/plain": [
       "[Parameter containing:\n",
       " tensor([0.3367], requires_grad=True),\n",
       " Parameter containing:\n",
       " tensor([0.1288], dtype=torch.float64, requires_grad=True)]"
      ]
     },
     "execution_count": 194,
     "metadata": {},
     "output_type": "execute_result"
    }
   ],
   "source": [
    "torch.manual_seed(42)\n",
    "\n",
    "model_0 = LinearRegressionModel()\n",
    "list(model_0.parameters())\n",
    "\n"
   ]
  },
  {
   "cell_type": "code",
   "execution_count": 195,
   "metadata": {},
   "outputs": [
    {
     "data": {
      "text/plain": [
       "OrderedDict([('weights', tensor([0.3367])),\n",
       "             ('bias', tensor([0.1288], dtype=torch.float64))])"
      ]
     },
     "execution_count": 195,
     "metadata": {},
     "output_type": "execute_result"
    }
   ],
   "source": [
    "model_0.state_dict()"
   ]
  },
  {
   "cell_type": "markdown",
   "metadata": {},
   "source": [
    "### Making predictions using `torch.inference_mode()`\n",
    "To check the model's predictive power, we chek how well it predicts `y_test` based on `X_test`.\n",
    "When we pass data through our model, it's going to run it through the `forward()` method."
   ]
  },
  {
   "cell_type": "code",
   "execution_count": 196,
   "metadata": {},
   "outputs": [
    {
     "data": {
      "text/plain": [
       "tensor([[0.3982],\n",
       "        [0.4049],\n",
       "        [0.4116],\n",
       "        [0.4184],\n",
       "        [0.4251],\n",
       "        [0.4318],\n",
       "        [0.4386],\n",
       "        [0.4453],\n",
       "        [0.4520],\n",
       "        [0.4588]], dtype=torch.float64)"
      ]
     },
     "execution_count": 196,
     "metadata": {},
     "output_type": "execute_result"
    }
   ],
   "source": [
    "with torch.inference_mode():\n",
    "    y_preds = model_0(X_test)\n",
    "    \n",
    "y_preds"
   ]
  },
  {
   "cell_type": "code",
   "execution_count": 197,
   "metadata": {},
   "outputs": [
    {
     "data": {
      "image/png": "[encoded data removed]",
      "text/plain": [
       "<Figure size 1000x700 with 1 Axes>"
      ]
     },
     "metadata": {},
     "output_type": "display_data"
    }
   ],
   "source": [
    "plot_predictions(predictions=y_preds)"
   ]
  },
  {
   "cell_type": "markdown",
   "metadata": {},
   "source": [
    "### 3. Train model\n",
    "The idea is to move from random *unknown* parameters to some *known* parameters\n",
    "\n",
    "Or in other words, from a poor representation of the data to a better representation of the data.\n",
    "\n",
    "One way to measure how poor or wrong our model predictions are is to use a loss function\n",
    "\n",
    "* Note: Loss function also called cost function, or criterion.\n",
    "\n",
    "Things we need to train:\n",
    "* **Loss Function:** A function to measure how wrong our model's predictions are to the ideal outputs, lower is better.\n",
    "* **Optimizer:** Takes into account the loss of a model and adjusts the model's parameters (eg . weights and bias in our case) to improve the loss function. \n",
    "\n",
    "And specifically for PyTorch, we need:\n",
    "* A training loop \n",
    "* A testing loop"
   ]
  },
  {
   "cell_type": "code",
   "execution_count": 198,
   "metadata": {},
   "outputs": [],
   "source": [
    "loss_fn = nn.L1Loss()\n",
    "\n",
    "optimizer = torch.optim.SGD(params=model_0.parameters(),\n",
    "                            lr=0.01)\n"
   ]
  },
  {
   "cell_type": "markdown",
   "metadata": {},
   "source": [
    "### Building a training loop (and a testing loop) in PyTorch\n",
    "\n",
    "A couple of things we need in a training loop: \n",
    "0. Loop through the data\n",
    "1. Forward pass (this involves data moving through our model's `forward()` functions. Also called forward propagation)\n",
    "2. Calculate the loss (compare forward pass predictions to ground truth labels)\n",
    "3. Optimizer zero grad\n",
    "4. Loss Backward - move backwards through the network to calculate the gradients of each of the parameters of our model with respect to the loss (**backpropagation**)\n",
    "5. Optimizer step - use the optimizer to adjust our model's parameters(**gradient descent**)"
   ]
  },
  {
   "cell_type": "code",
   "execution_count": 199,
   "metadata": {},
   "outputs": [
    {
     "name": "stdout",
     "output_type": "stream",
     "text": [
      "Epoch: 0 | Loss: 0.3128813517678373 | Test Loss: 0.4810651795382455\n",
      "OrderedDict({'weights': tensor([0.3406]), 'bias': tensor([0.1388], dtype=torch.float64)})\n",
      "Epoch: 10 | Loss: 0.19767138632506426 | Test Loss: 0.346355255078788\n",
      "OrderedDict({'weights': tensor([0.3796]), 'bias': tensor([0.2388], dtype=torch.float64)})\n",
      "Epoch: 20 | Loss: 0.08908726094682914 | Test Loss: 0.21729659528684148\n",
      "OrderedDict({'weights': tensor([0.4184]), 'bias': tensor([0.3333], dtype=torch.float64)})\n",
      "Epoch: 30 | Loss: 0.05314853437903411 | Test Loss: 0.14464020247411263\n",
      "OrderedDict({'weights': tensor([0.4512]), 'bias': tensor([0.3768], dtype=torch.float64)})\n",
      "Epoch: 40 | Loss: 0.045437965798191725 | Test Loss: 0.11360953504991064\n",
      "OrderedDict({'weights': tensor([0.4748]), 'bias': tensor([0.3868], dtype=torch.float64)})\n",
      "Epoch: 50 | Loss: 0.04167863324115598 | Test Loss: 0.09919951553296583\n",
      "OrderedDict({'weights': tensor([0.4938]), 'bias': tensor([0.3843], dtype=torch.float64)})\n",
      "Epoch: 60 | Loss: 0.03818932177440422 | Test Loss: 0.08886642379712592\n",
      "OrderedDict({'weights': tensor([0.5116]), 'bias': tensor([0.3788], dtype=torch.float64)})\n",
      "Epoch: 70 | Loss: 0.034760872570398914 | Test Loss: 0.08059396738957894\n",
      "OrderedDict({'weights': tensor([0.5288]), 'bias': tensor([0.3718], dtype=torch.float64)})\n",
      "Epoch: 80 | Loss: 0.031323813460567805 | Test Loss: 0.07232151694249642\n",
      "OrderedDict({'weights': tensor([0.5459]), 'bias': tensor([0.3648], dtype=torch.float64)})\n",
      "Epoch: 90 | Loss: 0.027887361238497978 | Test Loss: 0.06473595685910709\n",
      "OrderedDict({'weights': tensor([0.5629]), 'bias': tensor([0.3573], dtype=torch.float64)})\n",
      "Epoch: 100 | Loss: 0.024458912034492648 | Test Loss: 0.056463512372489165\n",
      "OrderedDict({'weights': tensor([0.5800]), 'bias': tensor([0.3503], dtype=torch.float64)})\n",
      "Epoch: 110 | Loss: 0.021020179208354882 | Test Loss: 0.048191052984709826\n",
      "OrderedDict({'weights': tensor([0.5972]), 'bias': tensor([0.3433], dtype=torch.float64)})\n",
      "Epoch: 120 | Loss: 0.01758540265836911 | Test Loss: 0.040605486940856125\n",
      "OrderedDict({'weights': tensor([0.6141]), 'bias': tensor([0.3358], dtype=torch.float64)})\n",
      "Epoch: 130 | Loss: 0.014155357881994759 | Test Loss: 0.0323330275530769\n",
      "OrderedDict({'weights': tensor([0.6313]), 'bias': tensor([0.3288], dtype=torch.float64)})\n",
      "Epoch: 140 | Loss: 0.010716548774564513 | Test Loss: 0.02406058902692334\n",
      "OrderedDict({'weights': tensor([0.6485]), 'bias': tensor([0.3218], dtype=torch.float64)})\n",
      "Epoch: 150 | Loss: 0.007283442308727353 | Test Loss: 0.016475022983069642\n",
      "OrderedDict({'weights': tensor([0.6654]), 'bias': tensor([0.3143], dtype=torch.float64)})\n",
      "Epoch: 160 | Loss: 0.0038517246542366657 | Test Loss: 0.008202572535987019\n",
      "OrderedDict({'weights': tensor([0.6826]), 'bias': tensor([0.3073], dtype=torch.float64)})\n",
      "Epoch: 170 | Loss: 0.008931417997662885 | Test Loss: 0.0050241684431983295\n",
      "OrderedDict({'weights': tensor([0.6951]), 'bias': tensor([0.2993], dtype=torch.float64)})\n",
      "Epoch: 180 | Loss: 0.008931417997662885 | Test Loss: 0.0050241684431983295\n",
      "OrderedDict({'weights': tensor([0.6951]), 'bias': tensor([0.2993], dtype=torch.float64)})\n",
      "Epoch: 190 | Loss: 0.008931417997662885 | Test Loss: 0.0050241684431983295\n",
      "OrderedDict({'weights': tensor([0.6951]), 'bias': tensor([0.2993], dtype=torch.float64)})\n",
      "Epoch: 200 | Loss: 0.008931417997662885 | Test Loss: 0.0050241684431983295\n",
      "OrderedDict({'weights': tensor([0.6951]), 'bias': tensor([0.2993], dtype=torch.float64)})\n",
      "Epoch: 210 | Loss: 0.008931417997662885 | Test Loss: 0.0050241684431983295\n",
      "OrderedDict({'weights': tensor([0.6951]), 'bias': tensor([0.2993], dtype=torch.float64)})\n",
      "Epoch: 220 | Loss: 0.008931417997662885 | Test Loss: 0.0050241684431983295\n",
      "OrderedDict({'weights': tensor([0.6951]), 'bias': tensor([0.2993], dtype=torch.float64)})\n",
      "Epoch: 230 | Loss: 0.008931417997662885 | Test Loss: 0.0050241684431983295\n",
      "OrderedDict({'weights': tensor([0.6951]), 'bias': tensor([0.2993], dtype=torch.float64)})\n",
      "Epoch: 240 | Loss: 0.008931417997662885 | Test Loss: 0.0050241684431983295\n",
      "OrderedDict({'weights': tensor([0.6951]), 'bias': tensor([0.2993], dtype=torch.float64)})\n"
     ]
    }
   ],
   "source": [
    "epochs = 250\n",
    "epoch_count = []\n",
    "train_loss_values = []\n",
    "test_loss_values = []\n",
    "\n",
    "for epoch in range(epochs):\n",
    "    model_0.train()\n",
    "    # 1. forward pass\n",
    "    y_pred = model_0(X_train)\n",
    "    \n",
    "    # 2. calculate the loss\n",
    "    loss = loss_fn(y_pred,y_train)\n",
    "    \n",
    "    # 3. optimizer zero grad\n",
    "    optimizer.zero_grad()\n",
    "    \n",
    "    # 4. backpropagation\n",
    "    loss.backward()\n",
    "    \n",
    "    # 5. Step the optimizer \n",
    "    optimizer.step()\n",
    "    \n",
    "    ### Testing\n",
    "    model_0.eval \n",
    "    \n",
    "    with torch.inference_mode():\n",
    "        # 1. Do the forward pass\n",
    "        test_pred = model_0(X_test)\n",
    "        \n",
    "        # 2. Calculate the loss\n",
    "        test_loss = loss_fn(test_pred,y_test)\n",
    "    if epoch%10==0:\n",
    "        epoch_count.append(epoch)\n",
    "        train_loss_values.append(loss)\n",
    "        test_loss_values.append(test_loss)\n",
    "        print(f\"Epoch: {epoch} | Loss: {loss} | Test Loss: {test_loss}\")\n",
    "        print(model_0.state_dict())\n",
    "    "
   ]
  },
  {
   "cell_type": "code",
   "execution_count": 200,
   "metadata": {},
   "outputs": [],
   "source": [
    "with torch.inference_mode():\n",
    "    y_preds_new = model_0(X_test)"
   ]
  },
  {
   "cell_type": "code",
   "execution_count": 201,
   "metadata": {},
   "outputs": [
    {
     "data": {
      "image/png": "[encoded data removed]",
      "text/plain": [
       "<Figure size 1000x700 with 1 Axes>"
      ]
     },
     "metadata": {},
     "output_type": "display_data"
    }
   ],
   "source": [
    "plot_predictions(predictions=(y_preds_new))"
   ]
  },
  {
   "cell_type": "code",
   "execution_count": 202,
   "metadata": {},
   "outputs": [
    {
     "data": {
      "text/plain": [
       "<matplotlib.legend.Legend at 0x21100088980>"
      ]
     },
     "execution_count": 202,
     "metadata": {},
     "output_type": "execute_result"
    },
    {
     "data": {
      "image/png": "[encoded data removed]",
      "text/plain": [
       "<Figure size 640x480 with 1 Axes>"
      ]
     },
     "metadata": {},
     "output_type": "display_data"
    }
   ],
   "source": [
    "plt.plot(epoch_count,np.array(torch.tensor(train_loss_values).numpy()),label=\"Train loss\")\n",
    "plt.plot(epoch_count,test_loss_values,label=\"Test loss\")\n",
    "plt.title(\"Training and test loss curves\")\n",
    "plt.ylabel(\"Loss\")\n",
    "plt.xlabel(\"Epochs\")\n",
    "plt.legend()"
   ]
  },
  {
   "cell_type": "markdown",
   "metadata": {},
   "source": [
    "### Saving the model in PyTorch\n",
    "\n",
    "There are three main methods for saving and loading models in PyTorch\n",
    "\n",
    "1. `torch.save()` - allows to save a PyTorch object in Python's pickle format\n",
    "2. `torch.load()` - allow to load a saved PyTorch object.\n",
    "3. `torch.nn.Module.load_state_dict()` - allows to load a model's saved state dictionary."
   ]
  },
  {
   "cell_type": "code",
   "execution_count": 206,
   "metadata": {},
   "outputs": [],
   "source": [
    "from pathlib import Path\n",
    "\n",
    "MODEL_PATH = Path(\"saved_models\")\n",
    "MODEL_PATH.mkdir(parents=True,exist_ok=True)\n",
    "\n",
    "# Create model save path\n",
    "MODEL_NAME = \"liner_regression_model_0.pth\"\n",
    "MODEL_SAVE_PATH = MODEL_PATH / MODEL_NAME\n",
    "\n",
    "# Save the state dict\n",
    "torch.save(obj=model_0.state_dict(),\n",
    "           f=MODEL_SAVE_PATH)"
   ]
  },
  {
   "cell_type": "code",
   "execution_count": 207,
   "metadata": {},
   "outputs": [
    {
     "name": "stderr",
     "output_type": "stream",
     "text": [
      "C:\\Users\\mufas\\AppData\\Local\\Temp\\ipykernel_15808\\3185152797.py:6: FutureWarning: You are using `torch.load` with `weights_only=False` (the current default value), which uses the default pickle module implicitly. It is possible to construct malicious pickle data which will execute arbitrary code during unpickling (See https://github.com/pytorch/pytorch/blob/main/SECURITY.md#untrusted-models for more details). In a future release, the default value for `weights_only` will be flipped to `True`. This limits the functions that could be executed during unpickling. Arbitrary objects will no longer be allowed to be loaded via this mode unless they are explicitly allowlisted by the user via `torch.serialization.add_safe_globals`. We recommend you start setting `weights_only=True` for any use case where you don't have full control of the loaded file. Please open an issue on GitHub for any issues related to this experimental feature.\n",
      "  loaded_model_0.load_state_dict(torch.load(f=MODEL_SAVE_PATH))\n"
     ]
    },
    {
     "data": {
      "text/plain": [
       "<All keys matched successfully>"
      ]
     },
     "execution_count": 207,
     "metadata": {},
     "output_type": "execute_result"
    }
   ],
   "source": [
    "# To load in a saved state_dict we have to instantiate a new instance of our model class \n",
    "\n",
    "loaded_model_0 = LinearRegressionModel()\n",
    "\n",
    "# load the saved state_dict of model_0(this will update the new instance with updated parameters)\n",
    "loaded_model_0.load_state_dict(torch.load(f=MODEL_SAVE_PATH))"
   ]
  },
  {
   "cell_type": "code",
   "execution_count": 208,
   "metadata": {},
   "outputs": [],
   "source": [
    "loaded_model_0.eval()\n",
    "with torch.inference_mode():\n",
    "    loaded_model_preds = loaded_model_0(X_test)\n",
    "    "
   ]
  },
  {
   "cell_type": "code",
   "execution_count": 209,
   "metadata": {},
   "outputs": [
    {
     "data": {
      "text/plain": [
       "tensor([[True],\n",
       "        [True],\n",
       "        [True],\n",
       "        [True],\n",
       "        [True],\n",
       "        [True],\n",
       "        [True],\n",
       "        [True],\n",
       "        [True],\n",
       "        [True]])"
      ]
     },
     "execution_count": 209,
     "metadata": {},
     "output_type": "execute_result"
    }
   ],
   "source": [
    "y_preds_new == loaded_model_preds"
   ]
  },
  {
   "cell_type": "code",
   "execution_count": null,
   "metadata": {},
   "outputs": [],
   "source": []
  }
 ],
 "metadata": {
  "kernelspec": {
   "display_name": "env",
   "language": "python",
   "name": "python3"
  },
  "language_info": {
   "codemirror_mode": {
    "name": "ipython",
    "version": 3
   },
   "file_extension": ".py",
   "mimetype": "text/x-python",
   "name": "python",
   "nbconvert_exporter": "python",
   "pygments_lexer": "ipython3",
   "version": "3.12.8"
  }
 },
 "nbformat": 4,
 "nbformat_minor": 2
}
