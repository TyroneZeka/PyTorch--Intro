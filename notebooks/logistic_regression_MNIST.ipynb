{
 "cells": [
  {
   "cell_type": "markdown",
   "metadata": {},
   "source": [
    "### Steps \n",
    "* Step 1: Load Dataset\n",
    "* Step 2: Make Dataset iterable\n",
    "* Step 3: Create Model Class\n",
    "* Step 4: Instantiate Model Class\n",
    "* Step 5: Instantiate Loss Class\n",
    "* Step 6: Instantiate Optimizer Class\n",
    "* Step 7: Train Model"
   ]
  },
  {
   "cell_type": "markdown",
   "metadata": {},
   "source": [
    "### Step 1: Load Dataset"
   ]
  },
  {
   "cell_type": "code",
   "execution_count": 2,
   "metadata": {},
   "outputs": [],
   "source": [
    "import torch\n",
    "import torch.nn as nn\n",
    "import torchvision.transforms as transforms\n",
    "import torchvision.datasets as dsets"
   ]
  },
  {
   "cell_type": "code",
   "execution_count": 3,
   "metadata": {},
   "outputs": [
    {
     "name": "stdout",
     "output_type": "stream",
     "text": [
      "Downloading http://yann.lecun.com/exdb/mnist/train-images-idx3-ubyte.gz\n",
      "Failed to download (trying next):\n",
      "HTTP Error 403: Forbidden\n",
      "\n",
      "Downloading https://ossci-datasets.s3.amazonaws.com/mnist/train-images-idx3-ubyte.gz\n",
      "Downloading https://ossci-datasets.s3.amazonaws.com/mnist/train-images-idx3-ubyte.gz to ./data\\MNIST\\raw\\train-images-idx3-ubyte.gz\n"
     ]
    },
    {
     "name": "stderr",
     "output_type": "stream",
     "text": [
      "100%|██████████| 9.91M/9.91M [00:47<00:00, 211kB/s] \n"
     ]
    },
    {
     "name": "stdout",
     "output_type": "stream",
     "text": [
      "Extracting ./data\\MNIST\\raw\\train-images-idx3-ubyte.gz to ./data\\MNIST\\raw\n",
      "\n",
      "Downloading http://yann.lecun.com/exdb/mnist/train-labels-idx1-ubyte.gz\n",
      "Failed to download (trying next):\n",
      "HTTP Error 403: Forbidden\n",
      "\n",
      "Downloading https://ossci-datasets.s3.amazonaws.com/mnist/train-labels-idx1-ubyte.gz\n",
      "Downloading https://ossci-datasets.s3.amazonaws.com/mnist/train-labels-idx1-ubyte.gz to ./data\\MNIST\\raw\\train-labels-idx1-ubyte.gz\n"
     ]
    },
    {
     "name": "stderr",
     "output_type": "stream",
     "text": [
      "100%|██████████| 28.9k/28.9k [00:00<00:00, 71.1kB/s]\n"
     ]
    },
    {
     "name": "stdout",
     "output_type": "stream",
     "text": [
      "Extracting ./data\\MNIST\\raw\\train-labels-idx1-ubyte.gz to ./data\\MNIST\\raw\n",
      "\n",
      "Downloading http://yann.lecun.com/exdb/mnist/t10k-images-idx3-ubyte.gz\n",
      "Failed to download (trying next):\n",
      "HTTP Error 403: Forbidden\n",
      "\n",
      "Downloading https://ossci-datasets.s3.amazonaws.com/mnist/t10k-images-idx3-ubyte.gz\n",
      "Downloading https://ossci-datasets.s3.amazonaws.com/mnist/t10k-images-idx3-ubyte.gz to ./data\\MNIST\\raw\\t10k-images-idx3-ubyte.gz\n"
     ]
    },
    {
     "name": "stderr",
     "output_type": "stream",
     "text": [
      "100%|██████████| 1.65M/1.65M [00:07<00:00, 213kB/s] \n"
     ]
    },
    {
     "name": "stdout",
     "output_type": "stream",
     "text": [
      "Extracting ./data\\MNIST\\raw\\t10k-images-idx3-ubyte.gz to ./data\\MNIST\\raw\n",
      "\n",
      "Downloading http://yann.lecun.com/exdb/mnist/t10k-labels-idx1-ubyte.gz\n",
      "Failed to download (trying next):\n",
      "HTTP Error 403: Forbidden\n",
      "\n",
      "Downloading https://ossci-datasets.s3.amazonaws.com/mnist/t10k-labels-idx1-ubyte.gz\n",
      "Downloading https://ossci-datasets.s3.amazonaws.com/mnist/t10k-labels-idx1-ubyte.gz to ./data\\MNIST\\raw\\t10k-labels-idx1-ubyte.gz\n"
     ]
    },
    {
     "name": "stderr",
     "output_type": "stream",
     "text": [
      "100%|██████████| 4.54k/4.54k [00:00<00:00, 8.97MB/s]"
     ]
    },
    {
     "name": "stdout",
     "output_type": "stream",
     "text": [
      "Extracting ./data\\MNIST\\raw\\t10k-labels-idx1-ubyte.gz to ./data\\MNIST\\raw\n",
      "\n"
     ]
    },
    {
     "name": "stderr",
     "output_type": "stream",
     "text": [
      "\n"
     ]
    }
   ],
   "source": [
    "train_dataset = dsets.MNIST(root='./data',\n",
    "                            train=True,\n",
    "                            transform=transforms.ToTensor(),\n",
    "                            download=True)"
   ]
  },
  {
   "cell_type": "code",
   "execution_count": 4,
   "metadata": {},
   "outputs": [
    {
     "data": {
      "text/plain": [
       "60000"
      ]
     },
     "execution_count": 4,
     "metadata": {},
     "output_type": "execute_result"
    }
   ],
   "source": [
    "len(train_dataset)"
   ]
  },
  {
   "cell_type": "code",
   "execution_count": 5,
   "metadata": {},
   "outputs": [
    {
     "name": "stdout",
     "output_type": "stream",
     "text": [
      "(tensor([[[0.0000, 0.0000, 0.0000, 0.0000, 0.0000, 0.0000, 0.0000, 0.0000,\n",
      "          0.0000, 0.0000, 0.0000, 0.0000, 0.0000, 0.0000, 0.0000, 0.0000,\n",
      "          0.0000, 0.0000, 0.0000, 0.0000, 0.0000, 0.0000, 0.0000, 0.0000,\n",
      "          0.0000, 0.0000, 0.0000, 0.0000],\n",
      "         [0.0000, 0.0000, 0.0000, 0.0000, 0.0000, 0.0000, 0.0000, 0.0000,\n",
      "          0.0000, 0.0000, 0.0000, 0.0000, 0.0000, 0.0000, 0.0000, 0.0000,\n",
      "          0.0000, 0.0000, 0.0000, 0.0000, 0.0000, 0.0000, 0.0000, 0.0000,\n",
      "          0.0000, 0.0000, 0.0000, 0.0000],\n",
      "         [0.0000, 0.0000, 0.0000, 0.0000, 0.0000, 0.0000, 0.0000, 0.0000,\n",
      "          0.0000, 0.0000, 0.0000, 0.0000, 0.0000, 0.0000, 0.0000, 0.0000,\n",
      "          0.0000, 0.0000, 0.0000, 0.0000, 0.0000, 0.0000, 0.0000, 0.0000,\n",
      "          0.0000, 0.0000, 0.0000, 0.0000],\n",
      "         [0.0000, 0.0000, 0.0000, 0.0000, 0.0000, 0.0000, 0.0000, 0.0000,\n",
      "          0.0000, 0.0000, 0.0000, 0.0000, 0.0000, 0.0000, 0.0000, 0.0000,\n",
      "          0.0000, 0.0000, 0.0000, 0.0000, 0.0000, 0.0000, 0.0000, 0.0000,\n",
      "          0.0000, 0.0000, 0.0000, 0.0000],\n",
      "         [0.0000, 0.0000, 0.0000, 0.0000, 0.0000, 0.0000, 0.0000, 0.0000,\n",
      "          0.0000, 0.0000, 0.0000, 0.0000, 0.0000, 0.0000, 0.0000, 0.0000,\n",
      "          0.0000, 0.0000, 0.0000, 0.0000, 0.0000, 0.0000, 0.0000, 0.0000,\n",
      "          0.0000, 0.0000, 0.0000, 0.0000],\n",
      "         [0.0000, 0.0000, 0.0000, 0.0000, 0.0000, 0.0000, 0.0000, 0.0000,\n",
      "          0.0000, 0.0000, 0.0000, 0.0000, 0.0118, 0.0706, 0.0706, 0.0706,\n",
      "          0.4941, 0.5333, 0.6863, 0.1020, 0.6510, 1.0000, 0.9686, 0.4980,\n",
      "          0.0000, 0.0000, 0.0000, 0.0000],\n",
      "         [0.0000, 0.0000, 0.0000, 0.0000, 0.0000, 0.0000, 0.0000, 0.0000,\n",
      "          0.1176, 0.1412, 0.3686, 0.6039, 0.6667, 0.9922, 0.9922, 0.9922,\n",
      "          0.9922, 0.9922, 0.8824, 0.6745, 0.9922, 0.9490, 0.7647, 0.2510,\n",
      "          0.0000, 0.0000, 0.0000, 0.0000],\n",
      "         [0.0000, 0.0000, 0.0000, 0.0000, 0.0000, 0.0000, 0.0000, 0.1922,\n",
      "          0.9333, 0.9922, 0.9922, 0.9922, 0.9922, 0.9922, 0.9922, 0.9922,\n",
      "          0.9922, 0.9843, 0.3647, 0.3216, 0.3216, 0.2196, 0.1529, 0.0000,\n",
      "          0.0000, 0.0000, 0.0000, 0.0000],\n",
      "         [0.0000, 0.0000, 0.0000, 0.0000, 0.0000, 0.0000, 0.0000, 0.0706,\n",
      "          0.8588, 0.9922, 0.9922, 0.9922, 0.9922, 0.9922, 0.7765, 0.7137,\n",
      "          0.9686, 0.9451, 0.0000, 0.0000, 0.0000, 0.0000, 0.0000, 0.0000,\n",
      "          0.0000, 0.0000, 0.0000, 0.0000],\n",
      "         [0.0000, 0.0000, 0.0000, 0.0000, 0.0000, 0.0000, 0.0000, 0.0000,\n",
      "          0.3137, 0.6118, 0.4196, 0.9922, 0.9922, 0.8039, 0.0431, 0.0000,\n",
      "          0.1686, 0.6039, 0.0000, 0.0000, 0.0000, 0.0000, 0.0000, 0.0000,\n",
      "          0.0000, 0.0000, 0.0000, 0.0000],\n",
      "         [0.0000, 0.0000, 0.0000, 0.0000, 0.0000, 0.0000, 0.0000, 0.0000,\n",
      "          0.0000, 0.0549, 0.0039, 0.6039, 0.9922, 0.3529, 0.0000, 0.0000,\n",
      "          0.0000, 0.0000, 0.0000, 0.0000, 0.0000, 0.0000, 0.0000, 0.0000,\n",
      "          0.0000, 0.0000, 0.0000, 0.0000],\n",
      "         [0.0000, 0.0000, 0.0000, 0.0000, 0.0000, 0.0000, 0.0000, 0.0000,\n",
      "          0.0000, 0.0000, 0.0000, 0.5451, 0.9922, 0.7451, 0.0078, 0.0000,\n",
      "          0.0000, 0.0000, 0.0000, 0.0000, 0.0000, 0.0000, 0.0000, 0.0000,\n",
      "          0.0000, 0.0000, 0.0000, 0.0000],\n",
      "         [0.0000, 0.0000, 0.0000, 0.0000, 0.0000, 0.0000, 0.0000, 0.0000,\n",
      "          0.0000, 0.0000, 0.0000, 0.0431, 0.7451, 0.9922, 0.2745, 0.0000,\n",
      "          0.0000, 0.0000, 0.0000, 0.0000, 0.0000, 0.0000, 0.0000, 0.0000,\n",
      "          0.0000, 0.0000, 0.0000, 0.0000],\n",
      "         [0.0000, 0.0000, 0.0000, 0.0000, 0.0000, 0.0000, 0.0000, 0.0000,\n",
      "          0.0000, 0.0000, 0.0000, 0.0000, 0.1373, 0.9451, 0.8824, 0.6275,\n",
      "          0.4235, 0.0039, 0.0000, 0.0000, 0.0000, 0.0000, 0.0000, 0.0000,\n",
      "          0.0000, 0.0000, 0.0000, 0.0000],\n",
      "         [0.0000, 0.0000, 0.0000, 0.0000, 0.0000, 0.0000, 0.0000, 0.0000,\n",
      "          0.0000, 0.0000, 0.0000, 0.0000, 0.0000, 0.3176, 0.9412, 0.9922,\n",
      "          0.9922, 0.4667, 0.0980, 0.0000, 0.0000, 0.0000, 0.0000, 0.0000,\n",
      "          0.0000, 0.0000, 0.0000, 0.0000],\n",
      "         [0.0000, 0.0000, 0.0000, 0.0000, 0.0000, 0.0000, 0.0000, 0.0000,\n",
      "          0.0000, 0.0000, 0.0000, 0.0000, 0.0000, 0.0000, 0.1765, 0.7294,\n",
      "          0.9922, 0.9922, 0.5882, 0.1059, 0.0000, 0.0000, 0.0000, 0.0000,\n",
      "          0.0000, 0.0000, 0.0000, 0.0000],\n",
      "         [0.0000, 0.0000, 0.0000, 0.0000, 0.0000, 0.0000, 0.0000, 0.0000,\n",
      "          0.0000, 0.0000, 0.0000, 0.0000, 0.0000, 0.0000, 0.0000, 0.0627,\n",
      "          0.3647, 0.9882, 0.9922, 0.7333, 0.0000, 0.0000, 0.0000, 0.0000,\n",
      "          0.0000, 0.0000, 0.0000, 0.0000],\n",
      "         [0.0000, 0.0000, 0.0000, 0.0000, 0.0000, 0.0000, 0.0000, 0.0000,\n",
      "          0.0000, 0.0000, 0.0000, 0.0000, 0.0000, 0.0000, 0.0000, 0.0000,\n",
      "          0.0000, 0.9765, 0.9922, 0.9765, 0.2510, 0.0000, 0.0000, 0.0000,\n",
      "          0.0000, 0.0000, 0.0000, 0.0000],\n",
      "         [0.0000, 0.0000, 0.0000, 0.0000, 0.0000, 0.0000, 0.0000, 0.0000,\n",
      "          0.0000, 0.0000, 0.0000, 0.0000, 0.0000, 0.0000, 0.1804, 0.5098,\n",
      "          0.7176, 0.9922, 0.9922, 0.8118, 0.0078, 0.0000, 0.0000, 0.0000,\n",
      "          0.0000, 0.0000, 0.0000, 0.0000],\n",
      "         [0.0000, 0.0000, 0.0000, 0.0000, 0.0000, 0.0000, 0.0000, 0.0000,\n",
      "          0.0000, 0.0000, 0.0000, 0.0000, 0.1529, 0.5804, 0.8980, 0.9922,\n",
      "          0.9922, 0.9922, 0.9804, 0.7137, 0.0000, 0.0000, 0.0000, 0.0000,\n",
      "          0.0000, 0.0000, 0.0000, 0.0000],\n",
      "         [0.0000, 0.0000, 0.0000, 0.0000, 0.0000, 0.0000, 0.0000, 0.0000,\n",
      "          0.0000, 0.0000, 0.0941, 0.4471, 0.8667, 0.9922, 0.9922, 0.9922,\n",
      "          0.9922, 0.7882, 0.3059, 0.0000, 0.0000, 0.0000, 0.0000, 0.0000,\n",
      "          0.0000, 0.0000, 0.0000, 0.0000],\n",
      "         [0.0000, 0.0000, 0.0000, 0.0000, 0.0000, 0.0000, 0.0000, 0.0000,\n",
      "          0.0902, 0.2588, 0.8353, 0.9922, 0.9922, 0.9922, 0.9922, 0.7765,\n",
      "          0.3176, 0.0078, 0.0000, 0.0000, 0.0000, 0.0000, 0.0000, 0.0000,\n",
      "          0.0000, 0.0000, 0.0000, 0.0000],\n",
      "         [0.0000, 0.0000, 0.0000, 0.0000, 0.0000, 0.0000, 0.0706, 0.6706,\n",
      "          0.8588, 0.9922, 0.9922, 0.9922, 0.9922, 0.7647, 0.3137, 0.0353,\n",
      "          0.0000, 0.0000, 0.0000, 0.0000, 0.0000, 0.0000, 0.0000, 0.0000,\n",
      "          0.0000, 0.0000, 0.0000, 0.0000],\n",
      "         [0.0000, 0.0000, 0.0000, 0.0000, 0.2157, 0.6745, 0.8863, 0.9922,\n",
      "          0.9922, 0.9922, 0.9922, 0.9569, 0.5216, 0.0431, 0.0000, 0.0000,\n",
      "          0.0000, 0.0000, 0.0000, 0.0000, 0.0000, 0.0000, 0.0000, 0.0000,\n",
      "          0.0000, 0.0000, 0.0000, 0.0000],\n",
      "         [0.0000, 0.0000, 0.0000, 0.0000, 0.5333, 0.9922, 0.9922, 0.9922,\n",
      "          0.8314, 0.5294, 0.5176, 0.0627, 0.0000, 0.0000, 0.0000, 0.0000,\n",
      "          0.0000, 0.0000, 0.0000, 0.0000, 0.0000, 0.0000, 0.0000, 0.0000,\n",
      "          0.0000, 0.0000, 0.0000, 0.0000],\n",
      "         [0.0000, 0.0000, 0.0000, 0.0000, 0.0000, 0.0000, 0.0000, 0.0000,\n",
      "          0.0000, 0.0000, 0.0000, 0.0000, 0.0000, 0.0000, 0.0000, 0.0000,\n",
      "          0.0000, 0.0000, 0.0000, 0.0000, 0.0000, 0.0000, 0.0000, 0.0000,\n",
      "          0.0000, 0.0000, 0.0000, 0.0000],\n",
      "         [0.0000, 0.0000, 0.0000, 0.0000, 0.0000, 0.0000, 0.0000, 0.0000,\n",
      "          0.0000, 0.0000, 0.0000, 0.0000, 0.0000, 0.0000, 0.0000, 0.0000,\n",
      "          0.0000, 0.0000, 0.0000, 0.0000, 0.0000, 0.0000, 0.0000, 0.0000,\n",
      "          0.0000, 0.0000, 0.0000, 0.0000],\n",
      "         [0.0000, 0.0000, 0.0000, 0.0000, 0.0000, 0.0000, 0.0000, 0.0000,\n",
      "          0.0000, 0.0000, 0.0000, 0.0000, 0.0000, 0.0000, 0.0000, 0.0000,\n",
      "          0.0000, 0.0000, 0.0000, 0.0000, 0.0000, 0.0000, 0.0000, 0.0000,\n",
      "          0.0000, 0.0000, 0.0000, 0.0000]]]), 5)\n",
      "<class 'torchvision.datasets.mnist.MNIST'>\n"
     ]
    }
   ],
   "source": [
    "print(train_dataset[0])"
   ]
  },
  {
   "cell_type": "code",
   "execution_count": 7,
   "metadata": {},
   "outputs": [
    {
     "data": {
      "text/plain": [
       "tuple"
      ]
     },
     "execution_count": 7,
     "metadata": {},
     "output_type": "execute_result"
    }
   ],
   "source": [
    "type(train_dataset[0])"
   ]
  },
  {
   "cell_type": "code",
   "execution_count": 9,
   "metadata": {},
   "outputs": [
    {
     "data": {
      "text/plain": [
       "torch.Size([1, 28, 28])"
      ]
     },
     "execution_count": 9,
     "metadata": {},
     "output_type": "execute_result"
    }
   ],
   "source": [
    "train_dataset[0][0].size()"
   ]
  },
  {
   "cell_type": "code",
   "execution_count": 13,
   "metadata": {},
   "outputs": [
    {
     "data": {
      "text/plain": [
       "1"
      ]
     },
     "execution_count": 13,
     "metadata": {},
     "output_type": "execute_result"
    }
   ],
   "source": [
    "train_dataset[3][1]"
   ]
  },
  {
   "cell_type": "code",
   "execution_count": 14,
   "metadata": {},
   "outputs": [],
   "source": [
    "import matplotlib.pyplot as plt\n",
    "%matplotlib inline\n",
    "import numpy as np"
   ]
  },
  {
   "cell_type": "code",
   "execution_count": 15,
   "metadata": {},
   "outputs": [
    {
     "data": {
      "text/plain": [
       "(1, 28, 28)"
      ]
     },
     "execution_count": 15,
     "metadata": {},
     "output_type": "execute_result"
    }
   ],
   "source": [
    "train_dataset[0][0].numpy().shape"
   ]
  },
  {
   "cell_type": "code",
   "execution_count": 16,
   "metadata": {},
   "outputs": [
    {
     "data": {
      "text/plain": [
       "<matplotlib.image.AxesImage at 0x20a81b3d370>"
      ]
     },
     "execution_count": 16,
     "metadata": {},
     "output_type": "execute_result"
    },
    {
     "data": {
      "image/png": "[encoded data removed]",
      "text/plain": [
       "<Figure size 640x480 with 1 Axes>"
      ]
     },
     "metadata": {},
     "output_type": "display_data"
    }
   ],
   "source": [
    "show_img = train_dataset[0][0].numpy().reshape(28,28)\n",
    "plt.imshow(show_img,cmap='gray')"
   ]
  },
  {
   "cell_type": "markdown",
   "metadata": {},
   "source": [
    "### Step 1b: Loading MNIST test dataset"
   ]
  },
  {
   "cell_type": "code",
   "execution_count": 17,
   "metadata": {},
   "outputs": [],
   "source": [
    "test_dataset = dsets.MNIST(root='./data',\n",
    "                           train=False,\n",
    "                           transform=transforms.ToTensor())"
   ]
  },
  {
   "cell_type": "code",
   "execution_count": 18,
   "metadata": {},
   "outputs": [
    {
     "data": {
      "text/plain": [
       "10000"
      ]
     },
     "execution_count": 18,
     "metadata": {},
     "output_type": "execute_result"
    }
   ],
   "source": [
    "len(test_dataset)"
   ]
  },
  {
   "cell_type": "markdown",
   "metadata": {},
   "source": [
    "### Step 2: Make Dataset Iterable"
   ]
  },
  {
   "cell_type": "code",
   "execution_count": 19,
   "metadata": {},
   "outputs": [],
   "source": [
    "batch_size = 100\n",
    "n_iters = 3000"
   ]
  },
  {
   "cell_type": "code",
   "execution_count": 20,
   "metadata": {},
   "outputs": [
    {
     "data": {
      "text/plain": [
       "5"
      ]
     },
     "execution_count": 20,
     "metadata": {},
     "output_type": "execute_result"
    }
   ],
   "source": [
    "num_epochs = n_iters / (len(train_dataset) / batch_size)\n",
    "num_epochs = int(num_epochs)\n",
    "num_epochs"
   ]
  },
  {
   "cell_type": "code",
   "execution_count": 21,
   "metadata": {},
   "outputs": [],
   "source": [
    "train_loader = torch.utils.data.DataLoader(dataset=train_dataset,\n",
    "                                           batch_size=batch_size,\n",
    "                                           shuffle=True)"
   ]
  },
  {
   "cell_type": "code",
   "execution_count": 23,
   "metadata": {},
   "outputs": [
    {
     "data": {
      "text/plain": [
       "True"
      ]
     },
     "execution_count": 23,
     "metadata": {},
     "output_type": "execute_result"
    }
   ],
   "source": [
    "import collections\n",
    "\n",
    "isinstance(train_loader,collections.abc.Iterable)"
   ]
  },
  {
   "cell_type": "code",
   "execution_count": 24,
   "metadata": {},
   "outputs": [],
   "source": [
    "test_loader = torch.utils.data.DataLoader(dataset=test_dataset,\n",
    "                                          batch_size=batch_size,\n",
    "                                          shuffle=False)"
   ]
  },
  {
   "cell_type": "markdown",
   "metadata": {},
   "source": [
    "### Step 3: Build Model Class "
   ]
  },
  {
   "cell_type": "code",
   "execution_count": 25,
   "metadata": {},
   "outputs": [],
   "source": [
    "class LogisticRegressionModel(nn.Module):\n",
    "    def __init__(self, input_dim, output_dim):\n",
    "        super(LogisticRegressionModel,self).__init__()\n",
    "        self.linear = nn.Linear(input_dim,output_dim)\n",
    "    \n",
    "    def forward(self,x):\n",
    "        out = self.linear(x)\n",
    "        return out"
   ]
  },
  {
   "cell_type": "markdown",
   "metadata": {},
   "source": [
    "### Instantiate Model Class\n",
    "* Input Dimensions:\n",
    "    * Size of image\n",
    "    * 28 x 28 = 784\n",
    "* Output Dimensions:\n",
    "    * 10 -> 0,1,2,3,4,5,6,7,8,9"
   ]
  },
  {
   "cell_type": "code",
   "execution_count": 26,
   "metadata": {},
   "outputs": [
    {
     "data": {
      "text/plain": [
       "torch.Size([1, 28, 28])"
      ]
     },
     "execution_count": 26,
     "metadata": {},
     "output_type": "execute_result"
    }
   ],
   "source": [
    "train_dataset[0][0].size()"
   ]
  },
  {
   "cell_type": "code",
   "execution_count": 27,
   "metadata": {},
   "outputs": [],
   "source": [
    "input_dim = 28*28\n",
    "output_dim = 10"
   ]
  },
  {
   "cell_type": "code",
   "execution_count": 34,
   "metadata": {},
   "outputs": [
    {
     "data": {
      "text/plain": [
       "device(type='cpu')"
      ]
     },
     "execution_count": 34,
     "metadata": {},
     "output_type": "execute_result"
    }
   ],
   "source": [
    "model = LogisticRegressionModel(input_dim=input_dim,output_dim=output_dim)\n",
    "device = torch.device(\"cuda:0\" if torch.cuda.is_available() else \"cpu\")\n",
    "model.to(device)\n",
    "device"
   ]
  },
  {
   "cell_type": "code",
   "execution_count": 29,
   "metadata": {},
   "outputs": [],
   "source": [
    "loss_fn = nn.CrossEntropyLoss()\n",
    "\n",
    "learning_rate = 1e-3\n",
    "optimizer = torch.optim.SGD(model.parameters(),lr=learning_rate)"
   ]
  },
  {
   "cell_type": "code",
   "execution_count": 30,
   "metadata": {},
   "outputs": [
    {
     "name": "stdout",
     "output_type": "stream",
     "text": [
      "Iteration: 500. Loss: 1.8382481336593628. Accuracy: 69.16999816894531\n",
      "Iteration: 1000. Loss: 1.560909390449524. Accuracy: 76.37000274658203\n",
      "Iteration: 1500. Loss: 1.2748064994812012. Accuracy: 79.45999908447266\n",
      "Iteration: 2000. Loss: 1.1668734550476074. Accuracy: 80.9800033569336\n",
      "Iteration: 2500. Loss: 1.1178035736083984. Accuracy: 82.16999816894531\n",
      "Iteration: 3000. Loss: 1.0282782316207886. Accuracy: 82.80000305175781\n"
     ]
    }
   ],
   "source": [
    "iter = 0\n",
    "for epoch in range(num_epochs):\n",
    "    for i, (images, labels) in enumerate(train_loader):\n",
    "        #Load images as variable\n",
    "        images = images.view(-1, 28*28).requires_grad_().to(device)\n",
    "        labels = labels.to(device)\n",
    "        \n",
    "        optimizer.zero_grad()\n",
    "        \n",
    "        outputs = model(images)\n",
    "        \n",
    "        loss = loss_fn(outputs,labels)\n",
    "        loss.backward()\n",
    "        \n",
    "        optimizer.step()\n",
    "        iter += 1\n",
    "        \n",
    "        if iter % 500 == 0:\n",
    "            correct = 0\n",
    "            total = 0\n",
    "            for images,labels in test_loader:\n",
    "                images = images.view(-1, 28*28).requires_grad_().to(device)\n",
    "                outputs = model(images).to(device)\n",
    "                _,predicted = torch.max(outputs.data,1)\n",
    "                \n",
    "                total += labels.size(0)\n",
    "                if torch.cuda.is_available():\n",
    "                    correct += (predicted.cpu() == labels.cpu()).sum()\n",
    "                else:\n",
    "                    correct += (predicted == labels).sum()\n",
    "            accuracy = 100 * correct / total\n",
    "            print('Iteration: {}. Loss: {}. Accuracy: {}'.format(iter, loss.item(), accuracy))\n",
    "                \n",
    "            \n",
    "        "
   ]
  },
  {
   "cell_type": "code",
   "execution_count": 31,
   "metadata": {},
   "outputs": [
    {
     "name": "stdout",
     "output_type": "stream",
     "text": [
      "OUTPUTS\n",
      "tensor([[-4.6465e-01, -1.2472e+00, -5.1906e-01, -2.8145e-01,  1.3074e-01,\n",
      "         -4.7741e-01, -1.1698e+00,  2.8295e+00, -4.4121e-01,  8.7901e-01],\n",
      "        [ 3.3434e-01, -8.7520e-02,  1.5700e+00,  1.0520e+00, -1.7432e+00,\n",
      "          5.9408e-01,  1.1257e+00, -1.8946e+00,  4.0799e-01, -1.6334e+00],\n",
      "        [-1.0745e+00,  2.3408e+00,  3.0393e-01,  3.6308e-02, -6.6049e-01,\n",
      "         -1.7421e-01, -1.4735e-01, -2.0226e-01,  1.4609e-01, -2.2219e-01],\n",
      "        [ 2.8489e+00, -2.3865e+00, -5.0889e-02, -5.3106e-01, -1.0519e+00,\n",
      "          4.6235e-01,  1.2275e+00,  2.0567e-01, -6.0333e-01,  4.8121e-02],\n",
      "        [-1.6134e-01, -2.3968e+00,  5.2106e-01, -6.3447e-01,  1.8154e+00,\n",
      "         -4.1286e-01,  1.0811e-01,  4.5825e-01, -8.8964e-02,  6.9818e-01],\n",
      "        [-1.5227e+00,  2.8517e+00,  2.7209e-01,  1.4800e-01, -7.8926e-01,\n",
      "         -2.8886e-01, -6.7441e-01, -3.2322e-02,  4.1695e-01, -7.3882e-02],\n",
      "        [-1.0925e+00, -1.3769e+00, -8.0505e-01,  1.4747e-01,  1.3811e+00,\n",
      "          1.5215e-01, -6.4838e-01,  8.8166e-01,  4.7706e-01,  6.6995e-01],\n",
      "        [-1.2799e+00, -6.3927e-01, -6.2715e-01,  1.3463e-02,  7.5694e-01,\n",
      "          4.4561e-01,  2.0754e-01, -7.7562e-02,  1.7257e-01,  1.5039e+00],\n",
      "        [ 3.0606e-01, -4.6812e-01,  7.6215e-01, -1.3113e+00,  5.6459e-01,\n",
      "          2.6690e-01,  6.6038e-01, -1.0615e+00, -2.5423e-02, -4.6480e-03],\n",
      "        [-7.4026e-01, -1.0394e+00, -1.3306e+00, -1.4393e+00,  1.1635e+00,\n",
      "         -2.9814e-01, -4.4118e-01,  1.7095e+00,  1.3513e-02,  1.7097e+00],\n",
      "        [ 3.1464e+00, -2.0049e+00,  4.4489e-01,  9.8519e-01, -9.8324e-01,\n",
      "          1.0085e+00, -5.6958e-01, -1.4206e+00,  5.3372e-01, -1.8808e+00],\n",
      "        [ 8.4329e-01, -6.0812e-01,  5.5926e-01, -3.6001e-02, -2.3584e-02,\n",
      "         -4.7375e-01,  7.7349e-01, -1.2142e+00,  1.0162e-01, -4.6628e-01],\n",
      "        [-8.6662e-01, -1.5437e+00, -9.0125e-01, -9.9612e-01,  1.4339e+00,\n",
      "         -3.4944e-02, -3.5296e-01,  9.6514e-01,  1.1195e-01,  2.1341e+00],\n",
      "        [ 2.9092e+00, -2.6175e+00, -5.7599e-02, -1.7900e-01, -5.8527e-01,\n",
      "          7.5828e-01, -1.9245e-01, -6.3201e-01,  5.1212e-01,  3.7142e-01],\n",
      "        [-1.3670e+00,  2.7641e+00, -1.0188e-01,  4.6412e-01, -1.1729e+00,\n",
      "         -9.1132e-02,  2.5735e-02, -9.5848e-02,  1.7538e-01, -1.5329e-01],\n",
      "        [ 5.8090e-01, -9.7888e-01,  1.2431e-02,  1.2435e+00, -2.5909e-01,\n",
      "          7.5859e-01, -5.4529e-01, -5.9788e-01,  6.1583e-01, -7.8785e-01],\n",
      "        [-4.8044e-01, -2.2811e+00,  2.0281e-01, -5.7043e-01,  1.4016e+00,\n",
      "         -5.1016e-01,  3.0045e-02,  8.9147e-01,  1.1910e-01,  1.5333e+00],\n",
      "        [ 9.2621e-02, -1.3689e+00, -5.3324e-01,  2.1969e-01, -1.1144e-01,\n",
      "         -3.9058e-01, -7.6003e-01,  2.8302e+00, -6.1998e-01,  6.4067e-01],\n",
      "        [-6.0006e-01, -2.9683e-01,  1.5985e-01,  1.3267e+00, -2.7988e-01,\n",
      "          5.1250e-01,  8.1174e-01, -3.0982e-01,  2.9306e-01, -2.7039e-01],\n",
      "        [-8.3369e-01, -1.6892e+00, -4.5906e-01, -2.9427e-01,  1.8802e+00,\n",
      "          1.3547e-01, -6.3802e-02,  7.1835e-02,  2.9923e-02,  1.3340e+00],\n",
      "        [-1.1010e+00, -3.8015e-01, -1.4047e+00,  2.6884e-02,  4.6997e-01,\n",
      "          2.7838e-01, -1.2967e+00,  1.6075e+00,  2.5021e-01,  1.4762e+00],\n",
      "        [-3.6889e-01, -1.6043e+00,  2.0802e-01,  1.4480e-01,  3.3150e-01,\n",
      "          3.9187e-01,  2.2854e+00, -1.2263e+00,  4.5175e-01,  2.4364e-01],\n",
      "        [-4.9845e-01,  3.4196e-01,  3.9358e-01, -8.4368e-01,  6.5376e-01,\n",
      "         -9.9115e-01,  1.1591e+00,  9.5189e-03, -3.2780e-01, -1.4340e-02],\n",
      "        [-8.3633e-02, -7.9746e-01, -6.4576e-01,  4.6740e-01, -1.9858e-01,\n",
      "          1.2699e+00,  1.6047e-01, -9.9103e-01,  7.6735e-01,  4.9163e-03],\n",
      "        [-6.1881e-01, -1.2607e+00,  2.1026e-01, -7.7452e-02,  1.3567e+00,\n",
      "         -3.2916e-01, -6.7434e-02,  2.6623e-01, -1.7945e-01,  1.0303e+00],\n",
      "        [ 4.3007e+00, -2.8099e+00,  7.0961e-01, -1.2819e+00, -3.9917e-01,\n",
      "          8.4736e-01,  9.7296e-01, -9.2638e-01, -3.4495e-01, -1.0979e+00],\n",
      "        [-2.4610e-01, -1.4608e+00, -5.5071e-01,  1.5118e-01,  4.7344e-01,\n",
      "         -1.4936e-01, -5.8946e-01,  1.8163e+00, -4.6462e-01,  1.1668e+00],\n",
      "        [-4.6002e-01, -2.4415e+00, -1.6975e-01, -7.5756e-01,  2.2830e+00,\n",
      "          1.0011e-01,  9.2083e-02,  2.2050e-02,  9.0784e-02,  1.2884e+00],\n",
      "        [ 2.6660e+00, -2.3199e+00,  2.4509e-01,  1.0096e+00, -1.2032e+00,\n",
      "          8.2605e-01, -6.2704e-02, -5.8528e-01,  6.1046e-01, -5.3023e-01],\n",
      "        [-1.1689e+00,  1.5701e+00, -3.6443e-01,  3.9262e-01, -6.1956e-01,\n",
      "          1.9719e-01,  1.4663e-01, -4.8066e-02,  3.3247e-01, -4.0404e-01],\n",
      "        [-8.2426e-01, -7.9269e-02, -9.8322e-01,  2.3623e+00, -1.2599e+00,\n",
      "          9.5459e-01, -2.2605e-01,  5.0565e-01,  1.3197e-01, -1.6128e-01],\n",
      "        [-1.0600e+00,  1.1711e+00, -2.6141e-01,  4.8504e-01, -3.5957e-01,\n",
      "          2.7912e-01, -1.4922e-02,  2.3584e-01,  7.9487e-02,  2.9051e-02],\n",
      "        [-9.5217e-01, -7.2401e-01, -8.8107e-01,  2.4661e+00, -3.0495e-01,\n",
      "          1.4357e+00, -1.6087e-01, -8.0560e-01,  7.2078e-01, -2.6905e-01],\n",
      "        [ 1.7739e+00, -1.6911e+00,  7.7651e-01, -1.5204e+00,  5.2140e-01,\n",
      "          2.2945e-01,  1.5509e+00, -7.8787e-01, -3.9911e-02, -2.1408e-01],\n",
      "        [-1.0145e+00, -2.1304e-01,  7.1509e-01, -2.7431e-01,  1.2625e-02,\n",
      "         -3.3708e-01, -1.5101e+00,  1.8328e+00,  5.0541e-01,  4.3220e-01],\n",
      "        [ 7.0143e-01, -1.1093e+00,  2.4435e+00,  3.9446e-01, -4.7723e-01,\n",
      "          1.6008e-02,  2.0765e-01, -3.7484e-01,  2.3010e-01, -1.9044e+00],\n",
      "        [-4.9352e-01, -1.6021e+00, -4.8396e-02, -7.9113e-02,  1.4120e-01,\n",
      "         -3.7946e-01, -6.8574e-01,  2.4092e+00, -3.7775e-01,  1.0632e+00],\n",
      "        [-1.4186e+00,  2.2872e+00, -5.7940e-01,  2.3637e-01, -6.2852e-01,\n",
      "          1.3760e-01, -3.5635e-02,  1.7238e-01,  4.4536e-01, -1.4613e-01],\n",
      "        [ 4.0302e-01,  4.5387e-01,  9.6980e-01,  1.4279e+00, -1.8975e+00,\n",
      "          4.2395e-01,  5.5226e-01, -1.2593e+00,  5.6404e-01, -1.2897e+00],\n",
      "        [-1.4782e+00,  3.0914e+00, -2.8251e-01,  4.1786e-01, -1.3545e+00,\n",
      "          2.3561e-03, -7.3582e-02, -5.4841e-01,  6.1865e-01, -2.0431e-01],\n",
      "        [-8.0086e-01,  1.6229e+00, -1.0364e-01,  7.6596e-03, -4.5672e-01,\n",
      "         -5.1547e-02, -4.1431e-02, -7.9932e-03,  5.4392e-02, -2.7296e-01],\n",
      "        [-6.9119e-01, -9.7280e-01, -3.5384e-01, -2.9947e-01,  7.2194e-02,\n",
      "         -2.1441e-01, -4.9873e-01,  2.1563e+00, -3.4695e-01,  1.3462e+00],\n",
      "        [-2.0264e+00, -5.9159e-01, -2.5402e-01, -3.7693e-01,  1.9400e+00,\n",
      "         -5.9648e-01, -8.0782e-01,  6.1215e-01,  2.6962e-01,  1.6518e+00],\n",
      "        [-2.7516e-01,  7.2922e-01,  1.4715e+00,  1.4794e-01, -1.5739e-01,\n",
      "         -3.2191e-01,  3.9295e-01, -9.3013e-01,  4.3088e-01, -2.5132e-01],\n",
      "        [-1.1213e+00,  1.9503e-01, -9.8361e-02,  1.2604e+00, -7.6807e-01,\n",
      "          5.5315e-01,  5.8158e-01, -1.0293e-01,  7.1223e-02, -4.3273e-01],\n",
      "        [ 2.5184e-01, -1.1843e+00, -5.2402e-01,  1.7341e+00, -4.1642e-01,\n",
      "          1.4750e+00,  6.4561e-02, -1.2588e+00,  1.1162e+00, -4.3442e-01],\n",
      "        [-1.4990e+00,  3.8625e-01, -2.4684e-02,  9.6361e-01, -1.6077e-01,\n",
      "          5.6942e-01,  1.0703e-01,  8.0907e-02,  1.1683e-01,  2.6156e-01],\n",
      "        [-8.1711e-01, -3.6872e-01,  1.5217e+00, -3.6172e-01,  4.7724e-01,\n",
      "         -6.6343e-01,  5.9757e-01, -4.1950e-01, -1.9557e-01,  1.1983e-01],\n",
      "        [-9.8898e-01, -3.0066e+00, -1.2506e+00, -1.1551e-01,  2.7350e+00,\n",
      "          3.1900e-01, -6.2363e-01,  3.9447e-01,  7.2065e-01,  2.1600e+00],\n",
      "        [-3.8100e-01, -2.2041e+00,  4.2744e-01, -6.9446e-01,  2.3096e+00,\n",
      "         -9.4998e-01,  2.7913e-01,  4.6173e-01, -3.0685e-01,  8.7670e-01],\n",
      "        [ 6.6783e-02, -1.0226e+00,  2.0500e-01,  1.9467e-01, -2.3908e-01,\n",
      "          4.5667e-01,  2.2863e+00, -9.3351e-01,  3.4525e-02, -3.8370e-01],\n",
      "        [ 9.4967e-02, -8.9138e-01, -1.8512e-01,  1.8108e+00, -5.9331e-01,\n",
      "          7.5422e-01,  1.3151e-01, -3.3790e-01, -2.8654e-01,  2.3232e-02],\n",
      "        [ 4.7647e-01, -1.3158e+00, -1.6314e+00, -5.4720e-02,  5.7709e-01,\n",
      "          1.3986e+00, -2.3909e-01, -3.7959e-01, -9.0502e-02,  4.9629e-01],\n",
      "        [ 3.0648e-01, -7.9542e-01, -3.7269e-01,  1.0031e+00, -2.8617e-02,\n",
      "          6.7492e-01, -1.6426e-01, -4.9365e-01,  2.6296e-01, -5.3043e-01],\n",
      "        [ 1.8922e-01, -5.8387e-01,  1.0304e+00, -2.0754e-01,  4.6264e-01,\n",
      "         -8.2474e-01,  7.3947e-01, -3.3094e-01, -2.0673e-01, -3.3532e-01],\n",
      "        [ 1.5475e+00, -2.2874e+00, -3.4622e-01,  4.7855e-01, -5.7330e-01,\n",
      "          7.5621e-01,  6.2164e-01, -7.3476e-01,  1.4674e+00, -7.8039e-02],\n",
      "        [-3.8862e-02, -3.0592e+00, -1.1181e-01, -6.0067e-01,  2.6230e+00,\n",
      "         -9.5440e-02,  3.6411e-01, -3.0538e-01, -1.0970e-01,  7.9634e-01],\n",
      "        [-1.0182e+00,  2.3589e+00,  1.8641e-01,  2.6385e-01, -8.9023e-01,\n",
      "         -1.3279e-01, -4.7007e-01, -1.4164e-01,  2.1727e-01, -2.8752e-02],\n",
      "        [-3.7286e-01, -2.1172e+00, -9.2753e-01, -9.7844e-01,  1.8239e+00,\n",
      "         -2.7183e-01,  7.2609e-02,  9.9021e-01, -2.6819e-01,  2.1010e+00],\n",
      "        [-1.0560e-01,  2.2127e-01, -4.5364e-01, -4.0933e-01,  6.0696e-02,\n",
      "          3.6322e-01, -2.2950e-01,  2.4451e-01,  2.2593e-01, -2.8357e-01],\n",
      "        [-6.1755e-02, -1.6981e+00, -5.1444e-01,  5.3393e-01,  4.7452e-01,\n",
      "         -2.0661e-01, -2.1880e-01,  2.2263e+00, -5.1482e-01,  7.2313e-01],\n",
      "        [ 7.7497e-03, -8.0342e-01,  1.0453e+00, -1.4210e+00, -9.4606e-02,\n",
      "          1.9177e-01,  5.7403e-01, -6.7261e-01,  1.2955e+00,  4.3565e-01],\n",
      "        [-7.2250e-01, -1.0783e+00,  1.6527e-01, -1.8227e-01,  7.5486e-01,\n",
      "          2.7391e-01,  2.1999e-01, -9.4728e-02,  5.5615e-01,  9.4886e-01],\n",
      "        [-8.1769e-01, -1.2230e-01,  1.2798e+00,  6.7276e-01, -1.1798e-01,\n",
      "         -1.0587e-01, -2.0578e-01, -6.9504e-01,  4.7977e-01,  2.3982e-01],\n",
      "        [-9.8683e-01, -7.5350e-01,  2.5035e-01, -6.8900e-01,  7.3863e-01,\n",
      "         -7.2508e-01, -4.8617e-01,  1.6728e+00, -4.6792e-02,  6.8012e-01],\n",
      "        [-1.1615e+00, -7.7973e-01, -5.0944e-01,  6.4675e-01,  6.2461e-01,\n",
      "          4.5360e-01,  1.2603e-01, -2.8756e-01,  5.2608e-01,  8.2212e-01],\n",
      "        [ 3.3659e-01, -2.2845e-01,  8.1990e-01, -2.0674e-01,  2.5546e-01,\n",
      "         -7.5761e-01,  7.1198e-01,  3.3745e-01, -5.9882e-01, -4.0075e-01],\n",
      "        [-6.1520e-01, -1.6399e+00,  5.2916e-01, -9.7935e-01,  2.2086e+00,\n",
      "         -6.6066e-01, -1.9213e-01,  3.1830e-01,  1.3922e-02,  5.0307e-01],\n",
      "        [-1.3526e+00, -3.9015e-01, -2.4637e-01,  2.6894e+00, -4.8861e-01,\n",
      "          9.8910e-01, -5.1848e-01, -6.9626e-01,  1.1251e+00,  7.2228e-02],\n",
      "        [ 2.4791e+00, -1.3709e+00,  5.9627e-01, -7.2682e-01, -1.2037e+00,\n",
      "          6.4864e-01,  2.6612e-01, -1.2678e-01, -5.1062e-01, -4.6606e-01],\n",
      "        [ 3.4577e-01, -1.2159e+00, -7.9540e-01, -2.1765e-01, -3.9156e-02,\n",
      "         -4.4604e-01, -7.5148e-01,  2.8947e+00, -4.8712e-01,  6.2303e-01],\n",
      "        [ 4.2923e+00, -2.8922e+00,  9.9612e-01,  1.9482e-01, -1.1948e+00,\n",
      "          9.2830e-01, -1.2541e-01, -1.6657e+00,  2.4454e-01, -1.5394e+00],\n",
      "        [ 1.4225e+00, -1.0800e+00,  1.7047e+00,  1.2238e+00, -1.1493e+00,\n",
      "         -4.3799e-02,  2.9065e-01, -6.5179e-01,  2.1059e-01, -1.7898e+00],\n",
      "        [-1.3336e+00,  8.2059e-01,  2.4458e-01,  1.0683e-02, -7.8026e-01,\n",
      "         -2.0476e-01, -9.4979e-01,  6.7592e-01,  1.0156e+00,  5.9888e-01],\n",
      "        [-1.4029e+00,  2.4922e+00, -5.3009e-01,  1.0910e-01, -9.0647e-01,\n",
      "          1.7582e-01,  8.9146e-03,  1.0448e-01,  5.1861e-01, -1.8831e-01],\n",
      "        [-1.6274e+00,  6.2533e-01, -3.2253e-01, -7.1545e-01,  9.4337e-01,\n",
      "         -5.6905e-01, -7.3330e-01,  1.8303e+00,  2.5608e-02,  7.0108e-01],\n",
      "        [-2.7264e-01,  7.2358e-02, -2.3368e-01,  2.4396e+00, -8.6633e-01,\n",
      "          9.5154e-01, -2.6017e-01, -1.0354e+00,  6.2170e-01, -7.5293e-01],\n",
      "        [-9.4324e-01, -5.2113e-01,  5.3915e-01, -6.4423e-01,  5.6245e-02,\n",
      "         -6.1678e-01, -1.3629e-01,  1.7183e+00, -3.9529e-01,  4.9381e-01],\n",
      "        [-1.6850e+00,  1.1934e+00, -7.6999e-01, -1.2780e-02,  2.0329e-02,\n",
      "          1.4318e-01, -4.5704e-01,  3.3676e-01,  1.0997e+00,  9.0847e-01],\n",
      "        [-5.7517e-01, -7.0060e-01, -6.7545e-01, -1.1134e+00,  1.6214e-01,\n",
      "         -4.5309e-01, -1.3651e+00,  3.3111e+00,  1.4701e-01,  7.1245e-01],\n",
      "        [-3.2619e-01, -1.9129e+00, -1.0225e+00, -1.8105e-01,  1.0665e+00,\n",
      "          5.7146e-01, -2.5415e-01,  1.2987e+00, -4.1751e-01,  1.9622e+00],\n",
      "        [ 7.8429e-02, -1.9095e+00,  6.2123e-01, -5.6694e-01,  2.2335e-01,\n",
      "          1.4711e-01,  2.3964e+00, -3.7010e-01, -1.9004e-01,  3.4022e-01],\n",
      "        [-4.1496e-01, -1.2794e+00,  4.0700e+00,  7.7767e-02, -7.0829e-02,\n",
      "         -7.5620e-01,  9.2294e-01, -8.9944e-01,  5.9758e-01, -1.2974e+00],\n",
      "        [-5.2784e-01, -1.9579e+00, -7.3863e-01, -1.9331e-01,  8.6709e-01,\n",
      "         -1.8880e-01, -8.6208e-01,  2.0757e+00, -4.0215e-01,  1.6031e+00],\n",
      "        [-7.7239e-01, -1.5304e-01, -2.7689e-01, -4.9939e-01,  4.1931e-01,\n",
      "          5.4111e-01, -3.6430e-01, -6.0960e-01,  1.1521e+00,  7.1115e-01],\n",
      "        [-1.0456e+00, -2.7690e+00, -7.9920e-01,  4.7768e-02,  2.8696e+00,\n",
      "          2.5000e-01, -2.1621e-01, -2.9921e-01,  3.8488e-01,  1.2135e+00],\n",
      "        [-1.8453e+00,  5.5175e-01, -3.3225e-01, -8.2425e-01, -2.6774e-02,\n",
      "         -6.5692e-01, -1.0812e+00,  3.0210e+00,  2.3239e-01,  1.1766e+00],\n",
      "        [ 8.3751e-02, -1.2585e+00, -1.1017e+00,  1.8111e+00, -1.7240e-01,\n",
      "          1.2375e+00,  7.9278e-01, -3.9299e-01,  6.6928e-02, -1.1035e-01],\n",
      "        [-2.9919e-01, -1.9369e+00,  8.9580e-01, -1.1050e+00,  1.2260e+00,\n",
      "         -6.1745e-01,  2.5000e+00, -1.1751e-01, -5.6409e-01,  2.3857e-01],\n",
      "        [-1.7538e+00,  3.0179e+00,  5.3361e-01,  4.7089e-02, -7.3171e-01,\n",
      "         -3.3082e-01, -2.1620e-01, -3.3479e-01,  4.6448e-01, -4.1404e-01],\n",
      "        [ 2.8445e-01, -8.1567e-01, -1.0978e-01,  2.8666e+00, -9.6869e-01,\n",
      "          8.0047e-01, -1.1656e+00, -4.3158e-01,  9.3535e-01, -5.7671e-01],\n",
      "        [-9.1458e-01, -3.6322e-01,  5.2474e-01, -7.1067e-01,  5.3450e-01,\n",
      "         -6.3920e-02,  2.7400e+00, -9.7133e-01,  3.3468e-01,  3.3532e-01],\n",
      "        [-9.8296e-01, -5.4117e-02, -4.0791e-02, -4.9110e-01,  4.8643e-01,\n",
      "         -2.4582e-02, -1.5171e-01, -1.9152e-01,  7.5970e-01,  2.9824e-01],\n",
      "        [-7.5777e-01, -3.5307e-01, -7.9478e-01,  2.6208e+00, -1.3194e+00,\n",
      "          1.2028e+00, -8.9980e-01,  5.0263e-01,  6.1884e-01,  1.1125e-02],\n",
      "        [-2.0751e+00,  1.8771e+00, -1.2511e-01,  3.1494e-01, -6.6244e-01,\n",
      "          3.1425e-01,  3.3978e-01, -2.8831e-01,  7.4613e-01, -1.0554e-01],\n",
      "        [-9.7705e-01, -3.2149e-01, -3.0744e-01, -1.3414e+00,  2.1127e+00,\n",
      "         -3.8375e-01,  4.8258e-01,  1.4199e-01, -1.3306e-01,  1.1931e+00],\n",
      "        [-1.0718e+00,  5.6551e-01, -3.0599e-01,  5.6558e-01, -1.3491e-01,\n",
      "          4.8560e-01, -3.6747e-02,  2.8025e-01,  2.3845e-01,  2.3007e-01],\n",
      "        [-1.9438e+00,  1.6666e+00, -6.4074e-01,  1.2670e-01, -2.1444e-01,\n",
      "         -3.4081e-02, -7.3166e-02,  9.0662e-01,  9.2366e-02,  6.0012e-01],\n",
      "        [ 8.9284e-01, -1.1516e+00,  8.0297e-01, -8.7199e-01, -4.2482e-01,\n",
      "          6.5729e-01,  1.8965e+00, -9.3711e-01,  2.0184e-03, -4.2909e-01],\n",
      "        [-1.0975e+00, -1.8630e+00,  4.5396e-02, -4.4273e-01,  1.7537e+00,\n",
      "         -6.6973e-01,  7.7496e-02,  9.2731e-01,  1.8772e-01,  2.2031e+00]],\n",
      "       grad_fn=<AddmmBackward0>)\n"
     ]
    }
   ],
   "source": [
    "iter_test = 0\n",
    "for images,labels in test_loader:\n",
    "    iter_test += 1\n",
    "    images = images.view(-1,28*28).requires_grad_()\n",
    "    outputs = model(images)\n",
    "    if iter_test == 1:\n",
    "        print('OUTPUTS')\n",
    "        print(outputs)\n",
    "    _, predicted = torch.max(outputs.data, 1)"
   ]
  },
  {
   "cell_type": "code",
   "execution_count": 32,
   "metadata": {},
   "outputs": [
    {
     "name": "stdout",
     "output_type": "stream",
     "text": [
      "OUTPUTS\n",
      "tensor([-0.4647, -1.2472, -0.5191, -0.2814,  0.1307, -0.4774, -1.1698,  2.8295,\n",
      "        -0.4412,  0.8790], grad_fn=<SliceBackward0>)\n"
     ]
    }
   ],
   "source": [
    "iter_test = 0\n",
    "for images, labels in test_loader:\n",
    "    iter_test += 1\n",
    "    images = images.view(-1, 28*28).requires_grad_()\n",
    "    outputs = model(images)\n",
    "    if iter_test == 1:\n",
    "        print('OUTPUTS')\n",
    "        print(outputs[0, :])\n",
    "    _, predicted = torch.max(outputs.data, 1)"
   ]
  },
  {
   "cell_type": "code",
   "execution_count": null,
   "metadata": {},
   "outputs": [],
   "source": []
  }
 ],
 "metadata": {
  "kernelspec": {
   "display_name": "env",
   "language": "python",
   "name": "python3"
  },
  "language_info": {
   "codemirror_mode": {
    "name": "ipython",
    "version": 3
   },
   "file_extension": ".py",
   "mimetype": "text/x-python",
   "name": "python",
   "nbconvert_exporter": "python",
   "pygments_lexer": "ipython3",
   "version": "3.12.8"
  }
 },
 "nbformat": 4,
 "nbformat_minor": 2
}
